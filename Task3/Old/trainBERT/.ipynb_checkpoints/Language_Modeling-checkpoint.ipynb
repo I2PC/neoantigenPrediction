{
 "cells": [
  {
   "cell_type": "markdown",
   "metadata": {
    "id": "-ewNs9RpH2CV"
   },
   "source": [
    "**Primary structure**"
   ]
  },
  {
   "cell_type": "code",
   "execution_count": null,
   "metadata": {
    "id": "ii79xiCzHw9g"
   },
   "outputs": [],
   "source": [
    "python create_pretraining_data.py \n",
    "--input_file=path_to_input_file\n",
    "--output_file=path_to_output_file/tf_examples.tfrecord \n",
    "--vocab_file=path_to_vocabulary_file \n",
    "--do_lower_case=True \n",
    "--max_seq_length=30 \n",
    "--max_predictions_per_seq=5\n",
    "--masked_lm_prob=0.15 \n",
    "--random_seed=12345 \n",
    "--dupe_factor=5"
   ]
  },
  {
   "cell_type": "code",
   "execution_count": null,
   "metadata": {
    "id": "aLiY1SVAH-ZT"
   },
   "outputs": [],
   "source": [
    "python run_pretraining.py     \n",
    "--input_file=path_to_input_file/tf_examples.tfrecord     \n",
    "--output_dir=path_to_output_dir     \n",
    "--do_train=True     \n",
    "--do_eval=True     \n",
    "--bert_config_file=path_to_configuration_file/bert_config.json     \n",
    "--train_batch_size=32     \n",
    "--max_seq_length=30     \n",
    "--max_predictions_per_seq=5     \n",
    "--num_train_steps=14000000    \n",
    "--num_warmup_steps=10000     \n",
    "--learning_rate=1e-4     \n",
    "--save_checkpoints_steps=10000"
   ]
  },
  {
   "cell_type": "markdown",
   "metadata": {
    "id": "n7NyVFgCH5ll"
   },
   "source": [
    "**Secondary structure**"
   ]
  },
  {
   "cell_type": "code",
   "execution_count": 2,
   "metadata": {
    "id": "AmRPKdHOH8X_"
   },
   "outputs": [
    {
     "ename": "SyntaxError",
     "evalue": "cannot assign to operator (Temp/ipykernel_9428/1166702330.py, line 2)",
     "output_type": "error",
     "traceback": [
      "\u001b[1;36m  File \u001b[1;32m\"C:\\Users\\migue\\AppData\\Local\\Temp/ipykernel_9428/1166702330.py\"\u001b[1;36m, line \u001b[1;32m2\u001b[0m\n\u001b[1;33m    --input_file=prediction.txt\u001b[0m\n\u001b[1;37m    ^\u001b[0m\n\u001b[1;31mSyntaxError\u001b[0m\u001b[1;31m:\u001b[0m cannot assign to operator\n"
     ]
    }
   ],
   "source": [
    "!python create_pretraining_data.py --input_file=prediction.txt --output_file=tf_examples.tfrecord --vocab_file=second-vocab.txt --do_lower_case=True --max_seq_length=30 --max_predictions_per_seq=5 --masked_lm_prob=0.15 --random_seed=12345 --dupe_factor=5"
   ]
  },
  {
   "cell_type": "code",
   "execution_count": null,
   "metadata": {
    "id": "nGA5ktqnIAyP"
   },
   "outputs": [],
   "source": [
    "python run_pretraining.py     \n",
    "--input_file=path_to_input_file/tf_examples.tfrecord     \n",
    "--output_dir=path_to_output_dir    \n",
    "--do_train=True     \n",
    "--do_eval=True     \n",
    "--bert_config_file=path_to_configuration_file/bert_config.json      \n",
    "--train_batch_size=32     \n",
    "--max_seq_length=30     \n",
    "--max_predictions_per_seq=5     \n",
    "--num_train_steps=500000    \n",
    "--num_warmup_steps=10000     \n",
    "--learning_rate=1e-4     \n",
    "--save_checkpoints_steps=10000"
   ]
  }
 ],
 "metadata": {
  "colab": {
   "name": "Language_Modeling.ipynb",
   "provenance": []
  },
  "kernelspec": {
   "display_name": "Python 3 (ipykernel)",
   "language": "python",
   "name": "python3"
  },
  "language_info": {
   "codemirror_mode": {
    "name": "ipython",
    "version": 3
   },
   "file_extension": ".py",
   "mimetype": "text/x-python",
   "name": "python",
   "nbconvert_exporter": "python",
   "pygments_lexer": "ipython3",
   "version": "3.8.5"
  }
 },
 "nbformat": 4,
 "nbformat_minor": 1
}
